{
  "nbformat": 4,
  "nbformat_minor": 0,
  "metadata": {
    "colab": {
      "name": "Entrenamiento3.ipynb",
      "provenance": [],
      "collapsed_sections": []
    },
    "kernelspec": {
      "name": "python3",
      "display_name": "Python 3"
    }
  },
  "cells": [
    {
      "cell_type": "code",
      "metadata": {
        "id": "GFnGRRuCHm5N",
        "colab_type": "code",
        "colab": {
          "base_uri": "https://localhost:8080/",
          "height": 34
        },
        "outputId": "f1e93a34-09f6-4757-faae-f40a81838a26"
      },
      "source": [
        "from keras.preprocessing.image import ImageDataGenerator\n",
        "from keras.models import Sequential\n",
        "from keras.layers import Dense, Dropout\n",
        "from keras.optimizers import RMSprop\n",
        "from keras.layers import Dense, Dropout, Flatten\n",
        "from keras.layers import Conv2D, MaxPooling2D\n",
        "from keras import backend as K\n",
        "from keras.callbacks import EarlyStopping, callbacks\n",
        "import keras\n",
        "from time import time"
      ],
      "execution_count": 1,
      "outputs": [
        {
          "output_type": "stream",
          "text": [
            "Using TensorFlow backend.\n"
          ],
          "name": "stderr"
        }
      ]
    },
    {
      "cell_type": "code",
      "metadata": {
        "id": "4DvgzDZwYMAb",
        "colab_type": "code",
        "outputId": "45b4c7e4-9052-40a5-855b-2a2c6b4abb81",
        "colab": {
          "base_uri": "https://localhost:8080/",
          "height": 121
        }
      },
      "source": [
        "from google.colab import drive\n",
        "drive.mount('/content/drive')"
      ],
      "execution_count": 2,
      "outputs": [
        {
          "output_type": "stream",
          "text": [
            "Go to this URL in a browser: https://accounts.google.com/o/oauth2/auth?client_id=947318989803-6bn6qk8qdgf4n4g3pfee6491hc0brc4i.apps.googleusercontent.com&redirect_uri=urn%3aietf%3awg%3aoauth%3a2.0%3aoob&response_type=code&scope=email%20https%3a%2f%2fwww.googleapis.com%2fauth%2fdocs.test%20https%3a%2f%2fwww.googleapis.com%2fauth%2fdrive%20https%3a%2f%2fwww.googleapis.com%2fauth%2fdrive.photos.readonly%20https%3a%2f%2fwww.googleapis.com%2fauth%2fpeopleapi.readonly\n",
            "\n",
            "Enter your authorization code:\n",
            "··········\n",
            "Mounted at /content/drive\n"
          ],
          "name": "stdout"
        }
      ]
    },
    {
      "cell_type": "code",
      "metadata": {
        "id": "JtoAduGn7JHp",
        "colab_type": "code",
        "outputId": "751bafed-4487-469b-9200-ad6d30fe4db9",
        "colab": {
          "base_uri": "https://localhost:8080/",
          "height": 50
        }
      },
      "source": [
        "# DATA SOURCE --------------------------------------------------\n",
        "\n",
        "batch_size = 10\n",
        "train_data_dir = \"/content/drive/My Drive/Colab Notebooks/data/natural_images/dataset/Entrenamiento\"\n",
        "validation_data_dir = \"/content/drive/My Drive/Colab Notebooks/data/natural_images/dataset/Tests\"\n",
        "\n",
        "train_datagen = ImageDataGenerator( #data augmentation\n",
        "        rescale=1./255,\n",
        "        width_shift_range=0.1,\n",
        "        height_shift_range=0.1,\n",
        "        zoom_range=0.1, \n",
        "        rotation_range=15\n",
        ")\n",
        "\n",
        "validation_datagen = ImageDataGenerator( #data augmentation\n",
        "        rescale=1./255\n",
        ")\n",
        "\n",
        "train_generator = train_datagen.flow_from_directory(\n",
        "        train_data_dir,\n",
        "        target_size=(150, 150),\n",
        "        batch_size=batch_size,\n",
        "        class_mode='categorical')\n",
        "\n",
        "validation_generator = validation_datagen.flow_from_directory(\n",
        "        validation_data_dir,\n",
        "        target_size=(150, 150),\n",
        "        batch_size=batch_size,\n",
        "        class_mode='categorical')\n",
        "\n"
      ],
      "execution_count": 5,
      "outputs": [
        {
          "output_type": "stream",
          "text": [
            "Found 125 images belonging to 5 classes.\n",
            "Found 55 images belonging to 5 classes.\n"
          ],
          "name": "stdout"
        }
      ]
    },
    {
      "cell_type": "code",
      "metadata": {
        "id": "qa1QjMeKR-4y",
        "colab_type": "code",
        "colab": {}
      },
      "source": [
        "# MODEL --------------------------------------------------\n",
        "\n",
        "from keras.layers.normalization import BatchNormalization\n",
        "\n",
        "epochs = 100\n",
        "model = Sequential()\n",
        "model.add(Conv2D(128, (3, 3), activation='relu', input_shape=(150, 150, 3)))\n",
        "model.add(MaxPooling2D(pool_size=(2, 2)))\n",
        "\n",
        "model.add(Conv2D(64, kernel_size=(3, 3),\n",
        "                 activation='relu'))\n",
        "model.add(MaxPooling2D(pool_size=(2, 2)))\n",
        "\n",
        "#keras.layers.BatchNormalization(),\n",
        "model.add(Conv2D(32, (3, 3), activation='relu'))\n",
        "model.add(MaxPooling2D(pool_size=(2, 2)))\n",
        "model.add(Dropout(0.3))\n",
        "model.add(Flatten())\n",
        "model.add(Dense(128, activation='relu'))\n",
        "model.add(Dropout(0.5))\n",
        "model.add(Dense(5, activation='softmax'))\n",
        "\n",
        "\n",
        "model.compile(loss=keras.losses.categorical_crossentropy,\n",
        "              optimizer=keras.optimizers.Adam(0.0001),\n",
        "              metrics=['accuracy'])"
      ],
      "execution_count": 0,
      "outputs": []
    },
    {
      "cell_type": "code",
      "metadata": {
        "id": "Ze_NJ5zOiB8A",
        "colab_type": "code",
        "outputId": "025086b2-fe6a-43f7-8004-8762f5694f78",
        "colab": {
          "base_uri": "https://localhost:8080/",
          "height": 1000
        }
      },
      "source": [
        "# TRAINING --------------------------------------------------\n",
        "\n",
        "acc = model.fit_generator(\n",
        "        generator = train_generator,\n",
        "        epochs=epochs, \n",
        "        validation_data=validation_generator,\n",
        "        shuffle=True\n",
        ")"
      ],
      "execution_count": 8,
      "outputs": [
        {
          "output_type": "stream",
          "text": [
            "Epoch 1/100\n",
            "13/13 [==============================] - 53s 4s/step - loss: 1.6286 - accuracy: 0.2160 - val_loss: 1.6060 - val_accuracy: 0.2727\n",
            "Epoch 2/100\n",
            "13/13 [==============================] - 15s 1s/step - loss: 1.5898 - accuracy: 0.2320 - val_loss: 1.6241 - val_accuracy: 0.2545\n",
            "Epoch 3/100\n",
            "13/13 [==============================] - 15s 1s/step - loss: 1.5867 - accuracy: 0.2240 - val_loss: 1.5037 - val_accuracy: 0.3818\n",
            "Epoch 4/100\n",
            "13/13 [==============================] - 15s 1s/step - loss: 1.5410 - accuracy: 0.3520 - val_loss: 1.5362 - val_accuracy: 0.5091\n",
            "Epoch 5/100\n",
            "13/13 [==============================] - 15s 1s/step - loss: 1.4881 - accuracy: 0.4720 - val_loss: 1.4262 - val_accuracy: 0.5273\n",
            "Epoch 6/100\n",
            "13/13 [==============================] - 15s 1s/step - loss: 1.3346 - accuracy: 0.5200 - val_loss: 1.0696 - val_accuracy: 0.5636\n",
            "Epoch 7/100\n",
            "13/13 [==============================] - 15s 1s/step - loss: 1.2551 - accuracy: 0.5120 - val_loss: 1.0774 - val_accuracy: 0.6182\n",
            "Epoch 8/100\n",
            "13/13 [==============================] - 14s 1s/step - loss: 1.1397 - accuracy: 0.5440 - val_loss: 0.7755 - val_accuracy: 0.6364\n",
            "Epoch 9/100\n",
            "13/13 [==============================] - 15s 1s/step - loss: 1.0530 - accuracy: 0.6160 - val_loss: 0.9900 - val_accuracy: 0.6000\n",
            "Epoch 10/100\n",
            "13/13 [==============================] - 15s 1s/step - loss: 0.9196 - accuracy: 0.6080 - val_loss: 0.6719 - val_accuracy: 0.6000\n",
            "Epoch 11/100\n",
            "13/13 [==============================] - 15s 1s/step - loss: 0.8974 - accuracy: 0.6400 - val_loss: 0.6005 - val_accuracy: 0.6182\n",
            "Epoch 12/100\n",
            "13/13 [==============================] - 15s 1s/step - loss: 0.9116 - accuracy: 0.6080 - val_loss: 0.4628 - val_accuracy: 0.6182\n",
            "Epoch 13/100\n",
            "13/13 [==============================] - 15s 1s/step - loss: 0.9318 - accuracy: 0.6000 - val_loss: 0.5486 - val_accuracy: 0.4909\n",
            "Epoch 14/100\n",
            "13/13 [==============================] - 15s 1s/step - loss: 0.8279 - accuracy: 0.6800 - val_loss: 0.4107 - val_accuracy: 0.6545\n",
            "Epoch 15/100\n",
            "13/13 [==============================] - 15s 1s/step - loss: 0.6999 - accuracy: 0.7120 - val_loss: 0.6882 - val_accuracy: 0.6364\n",
            "Epoch 16/100\n",
            "13/13 [==============================] - 15s 1s/step - loss: 0.7365 - accuracy: 0.7840 - val_loss: 0.5750 - val_accuracy: 0.6000\n",
            "Epoch 17/100\n",
            "13/13 [==============================] - 15s 1s/step - loss: 0.6727 - accuracy: 0.7760 - val_loss: 0.4646 - val_accuracy: 0.6364\n",
            "Epoch 18/100\n",
            "13/13 [==============================] - 15s 1s/step - loss: 0.6271 - accuracy: 0.7920 - val_loss: 0.0914 - val_accuracy: 0.6727\n",
            "Epoch 19/100\n",
            "13/13 [==============================] - 15s 1s/step - loss: 0.6317 - accuracy: 0.7200 - val_loss: 0.6265 - val_accuracy: 0.6727\n",
            "Epoch 20/100\n",
            "13/13 [==============================] - 15s 1s/step - loss: 0.6755 - accuracy: 0.7760 - val_loss: 0.7600 - val_accuracy: 0.5273\n",
            "Epoch 21/100\n",
            "13/13 [==============================] - 15s 1s/step - loss: 0.6054 - accuracy: 0.7600 - val_loss: 1.1857 - val_accuracy: 0.6545\n",
            "Epoch 22/100\n",
            "13/13 [==============================] - 15s 1s/step - loss: 0.6666 - accuracy: 0.7520 - val_loss: 0.2240 - val_accuracy: 0.7091\n",
            "Epoch 23/100\n",
            "13/13 [==============================] - 15s 1s/step - loss: 0.5273 - accuracy: 0.8080 - val_loss: 1.3335 - val_accuracy: 0.6545\n",
            "Epoch 24/100\n",
            "13/13 [==============================] - 15s 1s/step - loss: 0.5614 - accuracy: 0.7520 - val_loss: 1.1481 - val_accuracy: 0.7091\n",
            "Epoch 25/100\n",
            "13/13 [==============================] - 15s 1s/step - loss: 0.4840 - accuracy: 0.8400 - val_loss: 0.6299 - val_accuracy: 0.6909\n",
            "Epoch 26/100\n",
            "13/13 [==============================] - 15s 1s/step - loss: 0.4321 - accuracy: 0.8400 - val_loss: 0.1377 - val_accuracy: 0.6909\n",
            "Epoch 27/100\n",
            "13/13 [==============================] - 15s 1s/step - loss: 0.5400 - accuracy: 0.8320 - val_loss: 1.1567 - val_accuracy: 0.6909\n",
            "Epoch 28/100\n",
            "13/13 [==============================] - 15s 1s/step - loss: 0.3271 - accuracy: 0.9200 - val_loss: 3.2051 - val_accuracy: 0.7091\n",
            "Epoch 29/100\n",
            "13/13 [==============================] - 15s 1s/step - loss: 0.4186 - accuracy: 0.8400 - val_loss: 0.2391 - val_accuracy: 0.6909\n",
            "Epoch 30/100\n",
            "13/13 [==============================] - 15s 1s/step - loss: 0.4132 - accuracy: 0.8800 - val_loss: 1.1125 - val_accuracy: 0.6364\n",
            "Epoch 31/100\n",
            "13/13 [==============================] - 15s 1s/step - loss: 0.3913 - accuracy: 0.8480 - val_loss: 0.3173 - val_accuracy: 0.6727\n",
            "Epoch 32/100\n",
            "13/13 [==============================] - 15s 1s/step - loss: 0.4264 - accuracy: 0.8240 - val_loss: 0.8646 - val_accuracy: 0.6909\n",
            "Epoch 33/100\n",
            "13/13 [==============================] - 15s 1s/step - loss: 0.4460 - accuracy: 0.8560 - val_loss: 2.5530 - val_accuracy: 0.6727\n",
            "Epoch 34/100\n",
            "13/13 [==============================] - 15s 1s/step - loss: 0.4364 - accuracy: 0.8480 - val_loss: 0.5853 - val_accuracy: 0.6545\n",
            "Epoch 35/100\n",
            "13/13 [==============================] - 15s 1s/step - loss: 0.4676 - accuracy: 0.8400 - val_loss: 0.1657 - val_accuracy: 0.7455\n",
            "Epoch 36/100\n",
            "13/13 [==============================] - 15s 1s/step - loss: 0.3856 - accuracy: 0.8960 - val_loss: 1.3917 - val_accuracy: 0.7091\n",
            "Epoch 37/100\n",
            "13/13 [==============================] - 15s 1s/step - loss: 0.3512 - accuracy: 0.8720 - val_loss: 0.2755 - val_accuracy: 0.7091\n",
            "Epoch 38/100\n",
            "13/13 [==============================] - 15s 1s/step - loss: 0.3666 - accuracy: 0.8640 - val_loss: 2.0238 - val_accuracy: 0.6909\n",
            "Epoch 39/100\n",
            "13/13 [==============================] - 15s 1s/step - loss: 0.3520 - accuracy: 0.8640 - val_loss: 0.5914 - val_accuracy: 0.7273\n",
            "Epoch 40/100\n",
            "13/13 [==============================] - 15s 1s/step - loss: 0.3992 - accuracy: 0.8800 - val_loss: 0.1152 - val_accuracy: 0.6545\n",
            "Epoch 41/100\n",
            "13/13 [==============================] - 15s 1s/step - loss: 0.3162 - accuracy: 0.8880 - val_loss: 0.9089 - val_accuracy: 0.6909\n",
            "Epoch 42/100\n",
            "13/13 [==============================] - 15s 1s/step - loss: 0.2305 - accuracy: 0.9440 - val_loss: 4.4274 - val_accuracy: 0.6909\n",
            "Epoch 43/100\n",
            "13/13 [==============================] - 15s 1s/step - loss: 0.3145 - accuracy: 0.8560 - val_loss: 0.2226 - val_accuracy: 0.6727\n",
            "Epoch 44/100\n",
            "13/13 [==============================] - 15s 1s/step - loss: 0.2694 - accuracy: 0.9360 - val_loss: 2.1050 - val_accuracy: 0.7273\n",
            "Epoch 45/100\n",
            "13/13 [==============================] - 15s 1s/step - loss: 0.3896 - accuracy: 0.8480 - val_loss: 1.3584 - val_accuracy: 0.6727\n",
            "Epoch 46/100\n",
            "13/13 [==============================] - 15s 1s/step - loss: 0.3577 - accuracy: 0.8560 - val_loss: 0.9393 - val_accuracy: 0.7091\n",
            "Epoch 47/100\n",
            "13/13 [==============================] - 15s 1s/step - loss: 0.3047 - accuracy: 0.8720 - val_loss: 0.3812 - val_accuracy: 0.7091\n",
            "Epoch 48/100\n",
            "13/13 [==============================] - 15s 1s/step - loss: 0.2426 - accuracy: 0.9120 - val_loss: 0.9848 - val_accuracy: 0.7091\n",
            "Epoch 49/100\n",
            "13/13 [==============================] - 15s 1s/step - loss: 0.2679 - accuracy: 0.8880 - val_loss: 2.2671 - val_accuracy: 0.6909\n",
            "Epoch 50/100\n",
            "13/13 [==============================] - 15s 1s/step - loss: 0.2438 - accuracy: 0.9120 - val_loss: 0.8353 - val_accuracy: 0.7091\n",
            "Epoch 51/100\n",
            "13/13 [==============================] - 15s 1s/step - loss: 0.2506 - accuracy: 0.9200 - val_loss: 0.1370 - val_accuracy: 0.7091\n",
            "Epoch 52/100\n",
            "13/13 [==============================] - 15s 1s/step - loss: 0.2577 - accuracy: 0.8880 - val_loss: 1.7659 - val_accuracy: 0.7455\n",
            "Epoch 53/100\n",
            "13/13 [==============================] - 15s 1s/step - loss: 0.2082 - accuracy: 0.9360 - val_loss: 0.7081 - val_accuracy: 0.7273\n",
            "Epoch 54/100\n",
            "13/13 [==============================] - 15s 1s/step - loss: 0.2483 - accuracy: 0.8880 - val_loss: 1.6446 - val_accuracy: 0.7636\n",
            "Epoch 55/100\n",
            "13/13 [==============================] - 15s 1s/step - loss: 0.2622 - accuracy: 0.9280 - val_loss: 1.6328 - val_accuracy: 0.7273\n",
            "Epoch 56/100\n",
            "13/13 [==============================] - 15s 1s/step - loss: 0.3456 - accuracy: 0.8560 - val_loss: 0.4905 - val_accuracy: 0.7455\n",
            "Epoch 57/100\n",
            "13/13 [==============================] - 15s 1s/step - loss: 0.2040 - accuracy: 0.9280 - val_loss: 0.3327 - val_accuracy: 0.6909\n",
            "Epoch 58/100\n",
            "13/13 [==============================] - 15s 1s/step - loss: 0.2063 - accuracy: 0.9440 - val_loss: 0.7050 - val_accuracy: 0.7636\n",
            "Epoch 59/100\n",
            "13/13 [==============================] - 15s 1s/step - loss: 0.2343 - accuracy: 0.9040 - val_loss: 2.2136 - val_accuracy: 0.7455\n",
            "Epoch 60/100\n",
            "13/13 [==============================] - 15s 1s/step - loss: 0.1876 - accuracy: 0.9280 - val_loss: 0.9563 - val_accuracy: 0.7091\n",
            "Epoch 61/100\n",
            "13/13 [==============================] - 15s 1s/step - loss: 0.2344 - accuracy: 0.9200 - val_loss: 2.9488 - val_accuracy: 0.7455\n",
            "Epoch 62/100\n",
            "13/13 [==============================] - 15s 1s/step - loss: 0.2055 - accuracy: 0.9120 - val_loss: 2.4138 - val_accuracy: 0.7273\n",
            "Epoch 63/100\n",
            "13/13 [==============================] - 15s 1s/step - loss: 0.2594 - accuracy: 0.8960 - val_loss: 0.9524 - val_accuracy: 0.7273\n",
            "Epoch 64/100\n",
            "13/13 [==============================] - 15s 1s/step - loss: 0.3002 - accuracy: 0.8880 - val_loss: 0.3674 - val_accuracy: 0.6727\n",
            "Epoch 65/100\n",
            "13/13 [==============================] - 15s 1s/step - loss: 0.2218 - accuracy: 0.9120 - val_loss: 2.3733 - val_accuracy: 0.6909\n",
            "Epoch 66/100\n",
            "13/13 [==============================] - 15s 1s/step - loss: 0.1620 - accuracy: 0.9440 - val_loss: 3.5390 - val_accuracy: 0.7091\n",
            "Epoch 67/100\n",
            "13/13 [==============================] - 15s 1s/step - loss: 0.1495 - accuracy: 0.9520 - val_loss: 0.8815 - val_accuracy: 0.7273\n",
            "Epoch 68/100\n",
            "13/13 [==============================] - 15s 1s/step - loss: 0.1774 - accuracy: 0.9280 - val_loss: 0.8896 - val_accuracy: 0.6909\n",
            "Epoch 69/100\n",
            "13/13 [==============================] - 15s 1s/step - loss: 0.2211 - accuracy: 0.9120 - val_loss: 0.0703 - val_accuracy: 0.7818\n",
            "Epoch 70/100\n",
            "13/13 [==============================] - 15s 1s/step - loss: 0.1428 - accuracy: 0.9440 - val_loss: 0.1283 - val_accuracy: 0.7091\n",
            "Epoch 71/100\n",
            "13/13 [==============================] - 15s 1s/step - loss: 0.1591 - accuracy: 0.9440 - val_loss: 3.9953 - val_accuracy: 0.7455\n",
            "Epoch 72/100\n",
            "13/13 [==============================] - 15s 1s/step - loss: 0.1564 - accuracy: 0.9520 - val_loss: 2.0730 - val_accuracy: 0.7091\n",
            "Epoch 73/100\n",
            "13/13 [==============================] - 15s 1s/step - loss: 0.1519 - accuracy: 0.9280 - val_loss: 0.0230 - val_accuracy: 0.7455\n",
            "Epoch 74/100\n",
            "13/13 [==============================] - 15s 1s/step - loss: 0.1897 - accuracy: 0.9200 - val_loss: 0.3630 - val_accuracy: 0.6909\n",
            "Epoch 75/100\n",
            "13/13 [==============================] - 15s 1s/step - loss: 0.1897 - accuracy: 0.9280 - val_loss: 2.1477 - val_accuracy: 0.7273\n",
            "Epoch 76/100\n",
            "13/13 [==============================] - 15s 1s/step - loss: 0.2151 - accuracy: 0.9200 - val_loss: 0.4671 - val_accuracy: 0.7273\n",
            "Epoch 77/100\n",
            "13/13 [==============================] - 15s 1s/step - loss: 0.1941 - accuracy: 0.9280 - val_loss: 0.1426 - val_accuracy: 0.6727\n",
            "Epoch 78/100\n",
            "13/13 [==============================] - 15s 1s/step - loss: 0.1095 - accuracy: 0.9840 - val_loss: 1.0308 - val_accuracy: 0.7455\n",
            "Epoch 79/100\n",
            "13/13 [==============================] - 15s 1s/step - loss: 0.1438 - accuracy: 0.9600 - val_loss: 1.4920 - val_accuracy: 0.7455\n",
            "Epoch 80/100\n",
            "13/13 [==============================] - 15s 1s/step - loss: 0.1364 - accuracy: 0.9440 - val_loss: 0.1546 - val_accuracy: 0.7818\n",
            "Epoch 81/100\n",
            "13/13 [==============================] - 15s 1s/step - loss: 0.1375 - accuracy: 0.9600 - val_loss: 3.3485 - val_accuracy: 0.7636\n",
            "Epoch 82/100\n",
            "13/13 [==============================] - 15s 1s/step - loss: 0.1110 - accuracy: 0.9600 - val_loss: 0.2237 - val_accuracy: 0.7636\n",
            "Epoch 83/100\n",
            "13/13 [==============================] - 15s 1s/step - loss: 0.1504 - accuracy: 0.9280 - val_loss: 0.1108 - val_accuracy: 0.7636\n",
            "Epoch 84/100\n",
            "13/13 [==============================] - 15s 1s/step - loss: 0.1721 - accuracy: 0.9040 - val_loss: 1.1225 - val_accuracy: 0.7455\n",
            "Epoch 85/100\n",
            "13/13 [==============================] - 15s 1s/step - loss: 0.1228 - accuracy: 0.9520 - val_loss: 1.1439 - val_accuracy: 0.7091\n",
            "Epoch 86/100\n",
            "13/13 [==============================] - 15s 1s/step - loss: 0.1211 - accuracy: 0.9680 - val_loss: 0.1440 - val_accuracy: 0.7636\n",
            "Epoch 87/100\n",
            "13/13 [==============================] - 15s 1s/step - loss: 0.0916 - accuracy: 0.9760 - val_loss: 0.9644 - val_accuracy: 0.7091\n",
            "Epoch 88/100\n",
            "13/13 [==============================] - 15s 1s/step - loss: 0.1431 - accuracy: 0.9520 - val_loss: 0.0028 - val_accuracy: 0.7455\n",
            "Epoch 89/100\n",
            "13/13 [==============================] - 15s 1s/step - loss: 0.1058 - accuracy: 0.9680 - val_loss: 1.2910 - val_accuracy: 0.7455\n",
            "Epoch 90/100\n",
            "13/13 [==============================] - 15s 1s/step - loss: 0.1368 - accuracy: 0.9440 - val_loss: 1.1364 - val_accuracy: 0.7455\n",
            "Epoch 91/100\n",
            "13/13 [==============================] - 15s 1s/step - loss: 0.1805 - accuracy: 0.9440 - val_loss: 2.7715 - val_accuracy: 0.7273\n",
            "Epoch 92/100\n",
            "13/13 [==============================] - 15s 1s/step - loss: 0.1052 - accuracy: 0.9760 - val_loss: 0.0147 - val_accuracy: 0.7455\n",
            "Epoch 93/100\n",
            "13/13 [==============================] - 15s 1s/step - loss: 0.1275 - accuracy: 0.9440 - val_loss: 0.9522 - val_accuracy: 0.7273\n",
            "Epoch 94/100\n",
            "13/13 [==============================] - 15s 1s/step - loss: 0.0840 - accuracy: 0.9680 - val_loss: 3.0529 - val_accuracy: 0.7818\n",
            "Epoch 95/100\n",
            "13/13 [==============================] - 15s 1s/step - loss: 0.1651 - accuracy: 0.9200 - val_loss: 2.2881 - val_accuracy: 0.7636\n",
            "Epoch 96/100\n",
            "13/13 [==============================] - 15s 1s/step - loss: 0.1087 - accuracy: 0.9520 - val_loss: 1.0861 - val_accuracy: 0.7455\n",
            "Epoch 97/100\n",
            "13/13 [==============================] - 15s 1s/step - loss: 0.1299 - accuracy: 0.9520 - val_loss: 0.0427 - val_accuracy: 0.7091\n",
            "Epoch 98/100\n",
            "13/13 [==============================] - 15s 1s/step - loss: 0.1859 - accuracy: 0.9280 - val_loss: 0.2760 - val_accuracy: 0.7818\n",
            "Epoch 99/100\n",
            "13/13 [==============================] - 15s 1s/step - loss: 0.1259 - accuracy: 0.9440 - val_loss: 0.2569 - val_accuracy: 0.6909\n",
            "Epoch 100/100\n",
            "13/13 [==============================] - 15s 1s/step - loss: 0.1662 - accuracy: 0.9440 - val_loss: 2.8458 - val_accuracy: 0.7818\n"
          ],
          "name": "stdout"
        }
      ]
    },
    {
      "cell_type": "code",
      "metadata": {
        "id": "vOaWHo0L8n2_",
        "colab_type": "code",
        "colab": {}
      },
      "source": [
        "#SAVING --------------------------------------------------\n",
        "\n",
        "model.save(\"mimodelo.h5\")"
      ],
      "execution_count": 0,
      "outputs": []
    },
    {
      "cell_type": "code",
      "metadata": {
        "id": "xYMLDtNZiuV0",
        "colab_type": "code",
        "outputId": "80936694-5276-4f97-9680-afbccc64cb5d",
        "colab": {
          "base_uri": "https://localhost:8080/",
          "height": 541
        }
      },
      "source": [
        "# GRAPHIC --------------------------------------------------\n",
        "import matplotlib.pyplot as plt\n",
        "\n",
        "#Se crea la gráfica con los progresos realizados por la red neuronal\n",
        "\n",
        "plt.xlabel(\"Epochs\")\n",
        "plt.ylabel(\"Error\")\n",
        "plt.plot(acc.history[\"loss\"], label = \"loss\")\n",
        "plt.plot(acc.history[\"val_loss\"], label = \"val_loss\")\n",
        "plt.legend()\n",
        "plt.show()\n",
        "\n",
        "plt.xlabel(\"Epochs\")\n",
        "plt.ylabel(\"Accuracy\")\n",
        "plt.plot(acc.history[\"accuracy\"], label = \"accuracy\")\n",
        "plt.plot(acc.history[\"val_accuracy\"], label = \"val_accuracy\")\n",
        "plt.legend()\n",
        "plt.show()"
      ],
      "execution_count": 9,
      "outputs": [
        {
          "output_type": "display_data",
          "data": {
            "image/png": "[encoded data removed]",
            "text/plain": [
              "<Figure size 432x288 with 1 Axes>"
            ]
          },
          "metadata": {
            "tags": [],
            "needs_background": "light"
          }
        },
        {
          "output_type": "display_data",
          "data": {
            "image/png": "[encoded data removed]",
            "text/plain": [
              "<Figure size 432x288 with 1 Axes>"
            ]
          },
          "metadata": {
            "tags": [],
            "needs_background": "light"
          }
        }
      ]
    }
  ]
}