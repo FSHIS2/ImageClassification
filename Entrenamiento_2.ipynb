{
  "nbformat": 4,
  "nbformat_minor": 0,
  "metadata": {
    "colab": {
      "name": "Entrenamiento 2.ipynb",
      "provenance": [],
      "collapsed_sections": []
    },
    "kernelspec": {
      "name": "python3",
      "display_name": "Python 3"
    }
  },
  "cells": [
    {
      "cell_type": "code",
      "metadata": {
        "id": "GFnGRRuCHm5N",
        "colab_type": "code",
        "colab": {
          "base_uri": "https://localhost:8080/",
          "height": 34
        },
        "outputId": "2ce7d0db-f0b1-4ffd-d304-e5a23e82557d"
      },
      "source": [
        "from keras.preprocessing.image import ImageDataGenerator\n",
        "from keras.models import Sequential\n",
        "from keras.layers import Dense, Dropout\n",
        "from keras.optimizers import RMSprop\n",
        "from keras.layers import Dense, Dropout, Flatten\n",
        "from keras.layers import Conv2D, MaxPooling2D\n",
        "from keras import backend as K\n",
        "from keras.callbacks import EarlyStopping, callbacks\n",
        "import keras\n",
        "from time import time"
      ],
      "execution_count": 1,
      "outputs": [
        {
          "output_type": "stream",
          "text": [
            "Using TensorFlow backend.\n"
          ],
          "name": "stderr"
        }
      ]
    },
    {
      "cell_type": "code",
      "metadata": {
        "id": "4DvgzDZwYMAb",
        "colab_type": "code",
        "outputId": "af1f0800-ac27-4f57-8e21-96d5e214629f",
        "colab": {
          "base_uri": "https://localhost:8080/",
          "height": 121
        }
      },
      "source": [
        "from google.colab import drive\n",
        "drive.mount('/content/drive')"
      ],
      "execution_count": 2,
      "outputs": [
        {
          "output_type": "stream",
          "text": [
            "Go to this URL in a browser: https://accounts.google.com/o/oauth2/auth?client_id=947318989803-6bn6qk8qdgf4n4g3pfee6491hc0brc4i.apps.googleusercontent.com&redirect_uri=urn%3aietf%3awg%3aoauth%3a2.0%3aoob&response_type=code&scope=email%20https%3a%2f%2fwww.googleapis.com%2fauth%2fdocs.test%20https%3a%2f%2fwww.googleapis.com%2fauth%2fdrive%20https%3a%2f%2fwww.googleapis.com%2fauth%2fdrive.photos.readonly%20https%3a%2f%2fwww.googleapis.com%2fauth%2fpeopleapi.readonly\n",
            "\n",
            "Enter your authorization code:\n",
            "··········\n",
            "Mounted at /content/drive\n"
          ],
          "name": "stdout"
        }
      ]
    },
    {
      "cell_type": "code",
      "metadata": {
        "id": "JtoAduGn7JHp",
        "colab_type": "code",
        "outputId": "34110dfe-47da-4aa1-b578-633e8800d63e",
        "colab": {
          "base_uri": "https://localhost:8080/",
          "height": 50
        }
      },
      "source": [
        "# DATA SOURCE --------------------------------------------------\n",
        "\n",
        "batch_size = 10\n",
        "train_data_dir = \"/content/drive/My Drive/Colab Notebooks/data/natural_images/dataset/Entrenamiento\"\n",
        "validation_data_dir = \"/content/drive/My Drive/Colab Notebooks/data/natural_images/dataset/Tests\"\n",
        "\n",
        "train_datagen = ImageDataGenerator( #data augmentation\n",
        "        rescale=1./255,\n",
        "        width_shift_range=0.1,\n",
        "        height_shift_range=0.1,\n",
        "        zoom_range=0.1, \n",
        "        rotation_range=14\n",
        ")\n",
        "\n",
        "validation_datagen = ImageDataGenerator( #data augmentation\n",
        "        rescale=1./255\n",
        ")\n",
        "\n",
        "train_generator = train_datagen.flow_from_directory(\n",
        "        train_data_dir,\n",
        "        target_size=(150, 150),\n",
        "        batch_size=batch_size,\n",
        "        class_mode='categorical')\n",
        "\n",
        "validation_generator = validation_datagen.flow_from_directory(\n",
        "        validation_data_dir,\n",
        "        target_size=(150, 150),\n",
        "        batch_size=batch_size,\n",
        "        class_mode='categorical')\n",
        "\n"
      ],
      "execution_count": 3,
      "outputs": [
        {
          "output_type": "stream",
          "text": [
            "Found 125 images belonging to 5 classes.\n",
            "Found 55 images belonging to 5 classes.\n"
          ],
          "name": "stdout"
        }
      ]
    },
    {
      "cell_type": "code",
      "metadata": {
        "id": "qa1QjMeKR-4y",
        "colab_type": "code",
        "colab": {}
      },
      "source": [
        "# MODEL --------------------------------------------------\n",
        "\n",
        "from keras.layers.normalization import BatchNormalization\n",
        "\n",
        "epochs = 10\n",
        "model = Sequential()\n",
        "\n",
        "model.add(Conv2D(16, kernel_size=(3, 3),\n",
        "                 activation='relu',\n",
        "                 input_shape=(150, 150, 3)))\n",
        "model.add(MaxPooling2D(pool_size=(2, 2)))\n",
        "model.add(Conv2D(8, (3, 3), activation='relu'))\n",
        "model.add(MaxPooling2D(pool_size=(2, 2)))\n",
        "model.add(Dropout(0.25))\n",
        "model.add(Flatten())\n",
        "\n",
        "model.add(Dropout(0.5))\n",
        "\n",
        "model.add(Dense(5, activation='softmax'))\n",
        "\n",
        "\n",
        "model.compile(loss=keras.losses.categorical_crossentropy,\n",
        "              optimizer=keras.optimizers.Adam(0.0001),\n",
        "              metrics=['accuracy'])"
      ],
      "execution_count": 0,
      "outputs": []
    },
    {
      "cell_type": "code",
      "metadata": {
        "id": "Ze_NJ5zOiB8A",
        "colab_type": "code",
        "outputId": "98aff8ce-37f3-4ab0-9aa4-bd9c9d82ebd3",
        "colab": {
          "base_uri": "https://localhost:8080/",
          "height": 373
        }
      },
      "source": [
        "# TRAINING --------------------------------------------------\n",
        "\n",
        "acc = model.fit_generator(\n",
        "        generator = train_generator,\n",
        "        epochs=epochs, \n",
        "        validation_data=validation_generator,\n",
        "        shuffle=True\n",
        ")"
      ],
      "execution_count": 5,
      "outputs": [
        {
          "output_type": "stream",
          "text": [
            "Epoch 1/10\n",
            "13/13 [==============================] - 42s 3s/step - loss: 1.7218 - accuracy: 0.2160 - val_loss: 1.6426 - val_accuracy: 0.2000\n",
            "Epoch 2/10\n",
            "13/13 [==============================] - 4s 331ms/step - loss: 1.7224 - accuracy: 0.1600 - val_loss: 1.5763 - val_accuracy: 0.2182\n",
            "Epoch 3/10\n",
            "13/13 [==============================] - 4s 342ms/step - loss: 1.6127 - accuracy: 0.2400 - val_loss: 1.5329 - val_accuracy: 0.2364\n",
            "Epoch 4/10\n",
            "13/13 [==============================] - 4s 333ms/step - loss: 1.6599 - accuracy: 0.2320 - val_loss: 1.4575 - val_accuracy: 0.3091\n",
            "Epoch 5/10\n",
            "13/13 [==============================] - 4s 342ms/step - loss: 1.5822 - accuracy: 0.2960 - val_loss: 1.5244 - val_accuracy: 0.3273\n",
            "Epoch 6/10\n",
            "13/13 [==============================] - 4s 341ms/step - loss: 1.5660 - accuracy: 0.2480 - val_loss: 1.5478 - val_accuracy: 0.3091\n",
            "Epoch 7/10\n",
            "13/13 [==============================] - 5s 349ms/step - loss: 1.4865 - accuracy: 0.4080 - val_loss: 1.5869 - val_accuracy: 0.3636\n",
            "Epoch 8/10\n",
            "13/13 [==============================] - 4s 343ms/step - loss: 1.4676 - accuracy: 0.3840 - val_loss: 1.4369 - val_accuracy: 0.5273\n",
            "Epoch 9/10\n",
            "13/13 [==============================] - 4s 341ms/step - loss: 1.3965 - accuracy: 0.4720 - val_loss: 1.0986 - val_accuracy: 0.5273\n",
            "Epoch 10/10\n",
            "13/13 [==============================] - 4s 345ms/step - loss: 1.3414 - accuracy: 0.4720 - val_loss: 1.1722 - val_accuracy: 0.5455\n"
          ],
          "name": "stdout"
        }
      ]
    },
    {
      "cell_type": "code",
      "metadata": {
        "id": "vOaWHo0L8n2_",
        "colab_type": "code",
        "colab": {}
      },
      "source": [
        "#SAVING --------------------------------------------------\n",
        "\n",
        "model.save(\"mimodelo.h5\")"
      ],
      "execution_count": 0,
      "outputs": []
    },
    {
      "cell_type": "code",
      "metadata": {
        "id": "xYMLDtNZiuV0",
        "colab_type": "code",
        "outputId": "702c49a1-5013-4cca-fbd8-a052b838fb39",
        "colab": {
          "base_uri": "https://localhost:8080/",
          "height": 541
        }
      },
      "source": [
        "# GRAPHIC --------------------------------------------------\n",
        "import matplotlib.pyplot as plt\n",
        "\n",
        "#Se crea la gráfica con los progresos realizados por la red neuronal\n",
        "\n",
        "plt.xlabel(\"Epochs\")\n",
        "plt.ylabel(\"Error\")\n",
        "plt.plot(acc.history[\"loss\"], label = \"loss\")\n",
        "plt.plot(acc.history[\"val_loss\"], label = \"val_loss\")\n",
        "plt.legend()\n",
        "plt.show()\n",
        "\n",
        "plt.xlabel(\"Epochs\")\n",
        "plt.ylabel(\"Accuracy\")\n",
        "plt.plot(acc.history[\"accuracy\"], label = \"accuracy\")\n",
        "plt.plot(acc.history[\"val_accuracy\"], label = \"val_accuracy\")\n",
        "plt.legend()\n",
        "plt.show()"
      ],
      "execution_count": 0,
      "outputs": [
        {
          "output_type": "display_data",
          "data": {
            "image/png": "[encoded data removed]",
            "text/plain": [
              "<Figure size 432x288 with 1 Axes>"
            ]
          },
          "metadata": {
            "tags": [],
            "needs_background": "light"
          }
        },
        {
          "output_type": "display_data",
          "data": {
            "image/png": "[encoded data removed]",
            "text/plain": [
              "<Figure size 432x288 with 1 Axes>"
            ]
          },
          "metadata": {
            "tags": [],
            "needs_background": "light"
          }
        }
      ]
    }
  ]
}