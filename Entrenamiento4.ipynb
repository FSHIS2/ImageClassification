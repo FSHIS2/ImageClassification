{
  "nbformat": 4,
  "nbformat_minor": 0,
  "metadata": {
    "colab": {
      "name": "Entrenamiento4.ipynb",
      "provenance": [],
      "collapsed_sections": []
    },
    "kernelspec": {
      "name": "python3",
      "display_name": "Python 3"
    }
  },
  "cells": [
    {
      "cell_type": "code",
      "metadata": {
        "id": "GFnGRRuCHm5N",
        "colab_type": "code",
        "colab": {}
      },
      "source": [
        "from keras.preprocessing.image import ImageDataGenerator\n",
        "from keras.models import Sequential\n",
        "from keras.layers import Dense, Dropout\n",
        "from keras.optimizers import RMSprop\n",
        "from keras.layers import Dense, Dropout, Flatten\n",
        "from keras.layers import Conv2D, MaxPooling2D\n",
        "from keras import backend as K\n",
        "from keras.callbacks import EarlyStopping, callbacks\n",
        "import keras\n",
        "from time import time"
      ],
      "execution_count": 0,
      "outputs": []
    },
    {
      "cell_type": "code",
      "metadata": {
        "id": "4DvgzDZwYMAb",
        "colab_type": "code",
        "outputId": "39427b71-328c-4569-ca50-a63c9327a025",
        "colab": {
          "base_uri": "https://localhost:8080/",
          "height": 121
        }
      },
      "source": [
        "from google.colab import drive\n",
        "drive.mount('/content/drive')"
      ],
      "execution_count": 3,
      "outputs": [
        {
          "output_type": "stream",
          "text": [
            "Go to this URL in a browser: https://accounts.google.com/o/oauth2/auth?client_id=947318989803-6bn6qk8qdgf4n4g3pfee6491hc0brc4i.apps.googleusercontent.com&redirect_uri=urn%3aietf%3awg%3aoauth%3a2.0%3aoob&response_type=code&scope=email%20https%3a%2f%2fwww.googleapis.com%2fauth%2fdocs.test%20https%3a%2f%2fwww.googleapis.com%2fauth%2fdrive%20https%3a%2f%2fwww.googleapis.com%2fauth%2fdrive.photos.readonly%20https%3a%2f%2fwww.googleapis.com%2fauth%2fpeopleapi.readonly\n",
            "\n",
            "Enter your authorization code:\n",
            "··········\n",
            "Mounted at /content/drive\n"
          ],
          "name": "stdout"
        }
      ]
    },
    {
      "cell_type": "code",
      "metadata": {
        "id": "JtoAduGn7JHp",
        "colab_type": "code",
        "outputId": "a12319f3-5695-4828-db32-2e2f94a857d4",
        "colab": {
          "base_uri": "https://localhost:8080/",
          "height": 50
        }
      },
      "source": [
        "# DATA SOURCE --------------------------------------------------\n",
        "\n",
        "batch_size = 10\n",
        "train_data_dir = \"/content/drive/My Drive/Colab Notebooks/data/natural_images/dataset/Entrenamiento\"\n",
        "validation_data_dir = \"/content/drive/My Drive/Colab Notebooks/data/natural_images/dataset/Tests\"\n",
        "\n",
        "train_datagen = ImageDataGenerator( #data augmentation\n",
        "        rescale=1./255,\n",
        "        width_shift_range=0.1,\n",
        "        height_shift_range=0.1,\n",
        "        zoom_range=0.1, \n",
        "        rotation_range=15\n",
        ")\n",
        "\n",
        "validation_datagen = ImageDataGenerator( #data augmentation\n",
        "        rescale=1./255\n",
        ")\n",
        "\n",
        "train_generator = train_datagen.flow_from_directory(\n",
        "        train_data_dir,\n",
        "        target_size=(150, 150),\n",
        "        batch_size=batch_size,\n",
        "        class_mode='categorical')\n",
        "\n",
        "validation_generator = validation_datagen.flow_from_directory(\n",
        "        validation_data_dir,\n",
        "        target_size=(150, 150),\n",
        "        batch_size=batch_size,\n",
        "        class_mode='categorical')\n",
        "\n"
      ],
      "execution_count": 4,
      "outputs": [
        {
          "output_type": "stream",
          "text": [
            "Found 125 images belonging to 5 classes.\n",
            "Found 55 images belonging to 5 classes.\n"
          ],
          "name": "stdout"
        }
      ]
    },
    {
      "cell_type": "code",
      "metadata": {
        "id": "qa1QjMeKR-4y",
        "colab_type": "code",
        "colab": {}
      },
      "source": [
        "# MODEL --------------------------------------------------\n",
        "\n",
        "from keras.layers.normalization import BatchNormalization\n",
        "\n",
        "epochs = 100\n",
        "model = Sequential()\n",
        " \n",
        "model.add(Conv2D(128, (3, 3), activation='relu', input_shape=(150, 150, 3)))\n",
        "model.add(MaxPooling2D(pool_size=(2, 2)))\n",
        "\n",
        "model.add(Conv2D(64, kernel_size=(3, 3),\n",
        "                 activation='relu'))\n",
        "model.add(MaxPooling2D(pool_size=(2, 2)))\n",
        "model.add(Conv2D(32, (3, 3), activation='relu'))\n",
        "model.add(MaxPooling2D(pool_size=(2, 2)))\n",
        "model.add(Dropout(0.3))\n",
        "model.add(Flatten())\n",
        "model.add(Dense(128, activation='relu'))\n",
        "model.add(Dropout(0.5))\n",
        "model.add(Dense(64, activation='relu')) #nuevo\n",
        "model.add(Dropout(0.25)) # nuevo\n",
        "\n",
        "model.add(Dense(5, activation='softmax'))\n",
        "\n",
        "\n",
        "model.compile(loss=keras.losses.categorical_crossentropy,\n",
        "              optimizer=keras.optimizers.Adadelta(),\n",
        "              metrics=['accuracy'])"
      ],
      "execution_count": 0,
      "outputs": []
    },
    {
      "cell_type": "code",
      "metadata": {
        "id": "Ze_NJ5zOiB8A",
        "colab_type": "code",
        "outputId": "421d79cc-3aa1-4653-b50b-3c3c45a2c4c5",
        "colab": {
          "base_uri": "https://localhost:8080/",
          "height": 1000
        }
      },
      "source": [
        "# TRAINING --------------------------------------------------\n",
        "\n",
        "acc = model.fit_generator(\n",
        "        generator = train_generator,\n",
        "        epochs=epochs, \n",
        "        validation_data=validation_generator,\n",
        "        shuffle=True\n",
        ")"
      ],
      "execution_count": 27,
      "outputs": [
        {
          "output_type": "stream",
          "text": [
            "Epoch 1/100\n",
            "13/13 [==============================] - 16s 1s/step - loss: 1.6583 - accuracy: 0.1760 - val_loss: 1.6197 - val_accuracy: 0.2000\n",
            "Epoch 2/100\n",
            "13/13 [==============================] - 15s 1s/step - loss: 1.6145 - accuracy: 0.1920 - val_loss: 1.5273 - val_accuracy: 0.2000\n",
            "Epoch 3/100\n",
            "13/13 [==============================] - 15s 1s/step - loss: 1.6018 - accuracy: 0.2320 - val_loss: 1.3586 - val_accuracy: 0.2000\n",
            "Epoch 4/100\n",
            "13/13 [==============================] - 15s 1s/step - loss: 1.6444 - accuracy: 0.2080 - val_loss: 1.6100 - val_accuracy: 0.1455\n",
            "Epoch 5/100\n",
            "13/13 [==============================] - 15s 1s/step - loss: 1.5961 - accuracy: 0.1680 - val_loss: 1.4932 - val_accuracy: 0.2545\n",
            "Epoch 6/100\n",
            "13/13 [==============================] - 15s 1s/step - loss: 1.5806 - accuracy: 0.2240 - val_loss: 1.5997 - val_accuracy: 0.3455\n",
            "Epoch 7/100\n",
            "13/13 [==============================] - 15s 1s/step - loss: 1.5874 - accuracy: 0.2480 - val_loss: 1.4072 - val_accuracy: 0.3636\n",
            "Epoch 8/100\n",
            "13/13 [==============================] - 15s 1s/step - loss: 1.5911 - accuracy: 0.2960 - val_loss: 1.3383 - val_accuracy: 0.3455\n",
            "Epoch 9/100\n",
            "13/13 [==============================] - 15s 1s/step - loss: 1.5158 - accuracy: 0.3840 - val_loss: 1.4396 - val_accuracy: 0.3818\n",
            "Epoch 10/100\n",
            "13/13 [==============================] - 15s 1s/step - loss: 1.3829 - accuracy: 0.3920 - val_loss: 0.6896 - val_accuracy: 0.5455\n",
            "Epoch 11/100\n",
            "13/13 [==============================] - 15s 1s/step - loss: 1.2705 - accuracy: 0.4080 - val_loss: 0.9114 - val_accuracy: 0.5273\n",
            "Epoch 12/100\n",
            "13/13 [==============================] - 15s 1s/step - loss: 1.2539 - accuracy: 0.4160 - val_loss: 0.8751 - val_accuracy: 0.4545\n",
            "Epoch 13/100\n",
            "13/13 [==============================] - 15s 1s/step - loss: 1.3186 - accuracy: 0.5120 - val_loss: 1.2703 - val_accuracy: 0.5818\n",
            "Epoch 14/100\n",
            "13/13 [==============================] - 15s 1s/step - loss: 1.1437 - accuracy: 0.5600 - val_loss: 1.4316 - val_accuracy: 0.5818\n",
            "Epoch 15/100\n",
            "13/13 [==============================] - 15s 1s/step - loss: 1.0399 - accuracy: 0.5920 - val_loss: 0.9460 - val_accuracy: 0.5636\n",
            "Epoch 16/100\n",
            "13/13 [==============================] - 15s 1s/step - loss: 1.0698 - accuracy: 0.5200 - val_loss: 1.1432 - val_accuracy: 0.6182\n",
            "Epoch 17/100\n",
            "13/13 [==============================] - 15s 1s/step - loss: 1.1060 - accuracy: 0.5200 - val_loss: 1.5061 - val_accuracy: 0.5818\n",
            "Epoch 18/100\n",
            "13/13 [==============================] - 15s 1s/step - loss: 0.9755 - accuracy: 0.5920 - val_loss: 1.6298 - val_accuracy: 0.6182\n",
            "Epoch 19/100\n",
            "13/13 [==============================] - 15s 1s/step - loss: 0.8371 - accuracy: 0.6960 - val_loss: 1.4016 - val_accuracy: 0.6545\n",
            "Epoch 20/100\n",
            "13/13 [==============================] - 15s 1s/step - loss: 0.9917 - accuracy: 0.6160 - val_loss: 0.5961 - val_accuracy: 0.4727\n",
            "Epoch 21/100\n",
            "13/13 [==============================] - 15s 1s/step - loss: 0.9871 - accuracy: 0.6480 - val_loss: 1.0697 - val_accuracy: 0.5818\n",
            "Epoch 22/100\n",
            "13/13 [==============================] - 15s 1s/step - loss: 0.8683 - accuracy: 0.6800 - val_loss: 0.2310 - val_accuracy: 0.6182\n",
            "Epoch 23/100\n",
            "13/13 [==============================] - 15s 1s/step - loss: 0.7033 - accuracy: 0.7120 - val_loss: 1.3707 - val_accuracy: 0.6182\n",
            "Epoch 24/100\n",
            "13/13 [==============================] - 15s 1s/step - loss: 0.8301 - accuracy: 0.7280 - val_loss: 1.3622 - val_accuracy: 0.7091\n",
            "Epoch 25/100\n",
            "13/13 [==============================] - 15s 1s/step - loss: 0.7030 - accuracy: 0.7040 - val_loss: 1.4934 - val_accuracy: 0.6000\n",
            "Epoch 26/100\n",
            "13/13 [==============================] - 15s 1s/step - loss: 0.7082 - accuracy: 0.6880 - val_loss: 1.5217 - val_accuracy: 0.6545\n",
            "Epoch 27/100\n",
            "13/13 [==============================] - 15s 1s/step - loss: 0.6847 - accuracy: 0.7120 - val_loss: 0.5953 - val_accuracy: 0.6909\n",
            "Epoch 28/100\n",
            "13/13 [==============================] - 15s 1s/step - loss: 0.7653 - accuracy: 0.7600 - val_loss: 0.5701 - val_accuracy: 0.6545\n",
            "Epoch 29/100\n",
            "13/13 [==============================] - 15s 1s/step - loss: 0.5879 - accuracy: 0.7840 - val_loss: 0.2763 - val_accuracy: 0.6545\n",
            "Epoch 30/100\n",
            "13/13 [==============================] - 15s 1s/step - loss: 0.5805 - accuracy: 0.7200 - val_loss: 2.6485 - val_accuracy: 0.6909\n",
            "Epoch 31/100\n",
            "13/13 [==============================] - 15s 1s/step - loss: 0.5811 - accuracy: 0.7600 - val_loss: 0.4266 - val_accuracy: 0.6727\n",
            "Epoch 32/100\n",
            "13/13 [==============================] - 15s 1s/step - loss: 0.6538 - accuracy: 0.7680 - val_loss: 0.6794 - val_accuracy: 0.7091\n",
            "Epoch 33/100\n",
            "13/13 [==============================] - 15s 1s/step - loss: 0.6481 - accuracy: 0.7360 - val_loss: 2.1448 - val_accuracy: 0.6727\n",
            "Epoch 34/100\n",
            "13/13 [==============================] - 15s 1s/step - loss: 0.5136 - accuracy: 0.8240 - val_loss: 0.5161 - val_accuracy: 0.7091\n",
            "Epoch 35/100\n",
            "13/13 [==============================] - 15s 1s/step - loss: 0.5490 - accuracy: 0.8080 - val_loss: 0.6868 - val_accuracy: 0.6000\n",
            "Epoch 36/100\n",
            "13/13 [==============================] - 15s 1s/step - loss: 0.3670 - accuracy: 0.8560 - val_loss: 0.4869 - val_accuracy: 0.6727\n",
            "Epoch 37/100\n",
            "13/13 [==============================] - 15s 1s/step - loss: 0.5838 - accuracy: 0.7360 - val_loss: 0.9310 - val_accuracy: 0.6909\n",
            "Epoch 38/100\n",
            "13/13 [==============================] - 15s 1s/step - loss: 0.4989 - accuracy: 0.8160 - val_loss: 1.1019 - val_accuracy: 0.6909\n",
            "Epoch 39/100\n",
            "13/13 [==============================] - 15s 1s/step - loss: 0.3872 - accuracy: 0.8480 - val_loss: 0.1387 - val_accuracy: 0.7273\n",
            "Epoch 40/100\n",
            "13/13 [==============================] - 15s 1s/step - loss: 0.3876 - accuracy: 0.8480 - val_loss: 8.3843e-05 - val_accuracy: 0.6909\n",
            "Epoch 41/100\n",
            "13/13 [==============================] - 15s 1s/step - loss: 0.9162 - accuracy: 0.7200 - val_loss: 1.0487 - val_accuracy: 0.6364\n",
            "Epoch 42/100\n",
            "13/13 [==============================] - 15s 1s/step - loss: 0.2930 - accuracy: 0.9200 - val_loss: 0.2596 - val_accuracy: 0.6909\n",
            "Epoch 43/100\n",
            "13/13 [==============================] - 15s 1s/step - loss: 0.4649 - accuracy: 0.8400 - val_loss: 1.7882 - val_accuracy: 0.7091\n",
            "Epoch 44/100\n",
            "13/13 [==============================] - 15s 1s/step - loss: 0.4318 - accuracy: 0.8560 - val_loss: 1.8676 - val_accuracy: 0.7273\n",
            "Epoch 45/100\n",
            "13/13 [==============================] - 15s 1s/step - loss: 0.3898 - accuracy: 0.8640 - val_loss: 1.4215 - val_accuracy: 0.7091\n",
            "Epoch 46/100\n",
            "13/13 [==============================] - 15s 1s/step - loss: 0.3705 - accuracy: 0.8640 - val_loss: 1.5560 - val_accuracy: 0.7273\n",
            "Epoch 47/100\n",
            "13/13 [==============================] - 15s 1s/step - loss: 0.3355 - accuracy: 0.8560 - val_loss: 0.7201 - val_accuracy: 0.7273\n",
            "Epoch 48/100\n",
            "13/13 [==============================] - 15s 1s/step - loss: 0.3462 - accuracy: 0.8720 - val_loss: 1.7665 - val_accuracy: 0.6727\n",
            "Epoch 49/100\n",
            "13/13 [==============================] - 15s 1s/step - loss: 0.4464 - accuracy: 0.8240 - val_loss: 0.1781 - val_accuracy: 0.7455\n",
            "Epoch 50/100\n",
            "13/13 [==============================] - 15s 1s/step - loss: 0.3573 - accuracy: 0.8480 - val_loss: 0.3649 - val_accuracy: 0.6727\n",
            "Epoch 51/100\n",
            "13/13 [==============================] - 15s 1s/step - loss: 0.2597 - accuracy: 0.8880 - val_loss: 1.3547 - val_accuracy: 0.7455\n",
            "Epoch 52/100\n",
            "13/13 [==============================] - 15s 1s/step - loss: 0.2794 - accuracy: 0.9200 - val_loss: 0.1836 - val_accuracy: 0.7273\n",
            "Epoch 53/100\n",
            "13/13 [==============================] - 15s 1s/step - loss: 0.3219 - accuracy: 0.8880 - val_loss: 0.1062 - val_accuracy: 0.7818\n",
            "Epoch 54/100\n",
            "13/13 [==============================] - 15s 1s/step - loss: 0.4923 - accuracy: 0.8880 - val_loss: 1.8660 - val_accuracy: 0.7091\n",
            "Epoch 55/100\n",
            "13/13 [==============================] - 15s 1s/step - loss: 0.4852 - accuracy: 0.8480 - val_loss: 1.3098 - val_accuracy: 0.7273\n",
            "Epoch 56/100\n",
            "13/13 [==============================] - 15s 1s/step - loss: 0.2096 - accuracy: 0.9120 - val_loss: 3.9026 - val_accuracy: 0.7091\n",
            "Epoch 57/100\n",
            "13/13 [==============================] - 15s 1s/step - loss: 0.2688 - accuracy: 0.9520 - val_loss: 0.0124 - val_accuracy: 0.7273\n",
            "Epoch 58/100\n",
            "13/13 [==============================] - 15s 1s/step - loss: 0.2301 - accuracy: 0.8880 - val_loss: 3.9824 - val_accuracy: 0.7091\n",
            "Epoch 59/100\n",
            "13/13 [==============================] - 15s 1s/step - loss: 0.2477 - accuracy: 0.9200 - val_loss: 1.1357 - val_accuracy: 0.7273\n",
            "Epoch 60/100\n",
            "13/13 [==============================] - 15s 1s/step - loss: 0.3659 - accuracy: 0.9280 - val_loss: 4.2493 - val_accuracy: 0.7273\n",
            "Epoch 61/100\n",
            "13/13 [==============================] - 15s 1s/step - loss: 0.2081 - accuracy: 0.9040 - val_loss: 1.0488 - val_accuracy: 0.7091\n",
            "Epoch 62/100\n",
            "13/13 [==============================] - 15s 1s/step - loss: 0.2715 - accuracy: 0.8720 - val_loss: 1.9358 - val_accuracy: 0.7273\n",
            "Epoch 63/100\n",
            "13/13 [==============================] - 15s 1s/step - loss: 0.3016 - accuracy: 0.9040 - val_loss: 0.0557 - val_accuracy: 0.6909\n",
            "Epoch 64/100\n",
            "13/13 [==============================] - 15s 1s/step - loss: 0.2947 - accuracy: 0.9200 - val_loss: 1.2530 - val_accuracy: 0.6727\n",
            "Epoch 65/100\n",
            "13/13 [==============================] - 15s 1s/step - loss: 0.2981 - accuracy: 0.8880 - val_loss: 0.1596 - val_accuracy: 0.7636\n",
            "Epoch 66/100\n",
            "13/13 [==============================] - 15s 1s/step - loss: 0.2873 - accuracy: 0.9040 - val_loss: 0.2433 - val_accuracy: 0.7091\n",
            "Epoch 67/100\n",
            "13/13 [==============================] - 15s 1s/step - loss: 0.3813 - accuracy: 0.8720 - val_loss: 1.4478 - val_accuracy: 0.7455\n",
            "Epoch 68/100\n",
            "13/13 [==============================] - 15s 1s/step - loss: 0.2265 - accuracy: 0.9280 - val_loss: 0.2891 - val_accuracy: 0.7091\n",
            "Epoch 69/100\n",
            "13/13 [==============================] - 15s 1s/step - loss: 0.2154 - accuracy: 0.9200 - val_loss: 4.2210 - val_accuracy: 0.7455\n",
            "Epoch 70/100\n",
            "13/13 [==============================] - 15s 1s/step - loss: 0.3788 - accuracy: 0.8960 - val_loss: 3.3248 - val_accuracy: 0.7273\n",
            "Epoch 71/100\n",
            "13/13 [==============================] - 15s 1s/step - loss: 0.1347 - accuracy: 0.9520 - val_loss: 1.0663 - val_accuracy: 0.7636\n",
            "Epoch 72/100\n",
            "13/13 [==============================] - 15s 1s/step - loss: 0.2557 - accuracy: 0.9360 - val_loss: 1.4541 - val_accuracy: 0.7273\n",
            "Epoch 73/100\n",
            "13/13 [==============================] - 15s 1s/step - loss: 0.2059 - accuracy: 0.9360 - val_loss: 3.1191 - val_accuracy: 0.8000\n",
            "Epoch 74/100\n",
            "13/13 [==============================] - 15s 1s/step - loss: 0.3386 - accuracy: 0.9200 - val_loss: 2.7461 - val_accuracy: 0.6909\n",
            "Epoch 75/100\n",
            "13/13 [==============================] - 15s 1s/step - loss: 0.2736 - accuracy: 0.8880 - val_loss: 1.0369 - val_accuracy: 0.7636\n",
            "Epoch 76/100\n",
            "13/13 [==============================] - 15s 1s/step - loss: 0.2470 - accuracy: 0.9040 - val_loss: 0.9939 - val_accuracy: 0.7636\n",
            "Epoch 77/100\n",
            "13/13 [==============================] - 15s 1s/step - loss: 0.1388 - accuracy: 0.9600 - val_loss: 2.6531 - val_accuracy: 0.7091\n",
            "Epoch 78/100\n",
            "13/13 [==============================] - 15s 1s/step - loss: 0.1083 - accuracy: 0.9680 - val_loss: 0.1000 - val_accuracy: 0.7455\n",
            "Epoch 79/100\n",
            "13/13 [==============================] - 15s 1s/step - loss: 0.1357 - accuracy: 0.9600 - val_loss: 0.2283 - val_accuracy: 0.7636\n",
            "Epoch 80/100\n",
            "13/13 [==============================] - 15s 1s/step - loss: 0.2280 - accuracy: 0.9120 - val_loss: 0.4816 - val_accuracy: 0.7091\n",
            "Epoch 81/100\n",
            "13/13 [==============================] - 15s 1s/step - loss: 0.1163 - accuracy: 0.9680 - val_loss: 1.4102 - val_accuracy: 0.7455\n",
            "Epoch 82/100\n",
            "13/13 [==============================] - 15s 1s/step - loss: 0.2784 - accuracy: 0.8880 - val_loss: 6.5178 - val_accuracy: 0.7455\n",
            "Epoch 83/100\n",
            "13/13 [==============================] - 15s 1s/step - loss: 0.3451 - accuracy: 0.8880 - val_loss: 0.0413 - val_accuracy: 0.7455\n",
            "Epoch 84/100\n",
            "13/13 [==============================] - 15s 1s/step - loss: 0.1224 - accuracy: 0.9520 - val_loss: 1.9487 - val_accuracy: 0.7455\n",
            "Epoch 85/100\n",
            "13/13 [==============================] - 15s 1s/step - loss: 0.0781 - accuracy: 0.9680 - val_loss: 2.3861 - val_accuracy: 0.7818\n",
            "Epoch 86/100\n",
            "13/13 [==============================] - 15s 1s/step - loss: 0.1156 - accuracy: 0.9520 - val_loss: 0.0141 - val_accuracy: 0.7091\n",
            "Epoch 87/100\n",
            "13/13 [==============================] - 15s 1s/step - loss: 0.2774 - accuracy: 0.9040 - val_loss: 0.0824 - val_accuracy: 0.7455\n",
            "Epoch 88/100\n",
            "13/13 [==============================] - 15s 1s/step - loss: 0.1717 - accuracy: 0.9520 - val_loss: 0.0160 - val_accuracy: 0.7636\n",
            "Epoch 89/100\n",
            "13/13 [==============================] - 15s 1s/step - loss: 0.1923 - accuracy: 0.9360 - val_loss: 4.3798 - val_accuracy: 0.7273\n",
            "Epoch 90/100\n",
            "13/13 [==============================] - 15s 1s/step - loss: 0.2772 - accuracy: 0.9280 - val_loss: 0.0030 - val_accuracy: 0.7091\n",
            "Epoch 91/100\n",
            "13/13 [==============================] - 15s 1s/step - loss: 0.1514 - accuracy: 0.9680 - val_loss: 0.1664 - val_accuracy: 0.7455\n",
            "Epoch 92/100\n",
            "13/13 [==============================] - 15s 1s/step - loss: 0.1035 - accuracy: 0.9680 - val_loss: 0.2457 - val_accuracy: 0.7455\n",
            "Epoch 93/100\n",
            "13/13 [==============================] - 15s 1s/step - loss: 0.2335 - accuracy: 0.9280 - val_loss: 1.3043 - val_accuracy: 0.7818\n",
            "Epoch 94/100\n",
            "13/13 [==============================] - 15s 1s/step - loss: 0.2174 - accuracy: 0.9280 - val_loss: 0.5334 - val_accuracy: 0.6364\n",
            "Epoch 95/100\n",
            "13/13 [==============================] - 15s 1s/step - loss: 0.0994 - accuracy: 0.9600 - val_loss: 2.5586 - val_accuracy: 0.7455\n",
            "Epoch 96/100\n",
            "13/13 [==============================] - 15s 1s/step - loss: 0.0997 - accuracy: 0.9600 - val_loss: 1.6011 - val_accuracy: 0.8000\n",
            "Epoch 97/100\n",
            "13/13 [==============================] - 15s 1s/step - loss: 0.1772 - accuracy: 0.9440 - val_loss: 0.1694 - val_accuracy: 0.8000\n",
            "Epoch 98/100\n",
            "13/13 [==============================] - 15s 1s/step - loss: 0.1579 - accuracy: 0.9440 - val_loss: 2.1286 - val_accuracy: 0.7636\n",
            "Epoch 99/100\n",
            "13/13 [==============================] - 15s 1s/step - loss: 0.1433 - accuracy: 0.9360 - val_loss: 0.8880 - val_accuracy: 0.7818\n",
            "Epoch 100/100\n",
            "13/13 [==============================] - 15s 1s/step - loss: 0.2053 - accuracy: 0.9440 - val_loss: 1.9752 - val_accuracy: 0.7455\n"
          ],
          "name": "stdout"
        }
      ]
    },
    {
      "cell_type": "code",
      "metadata": {
        "id": "oGbb8JG_igmd",
        "colab_type": "code",
        "colab": {}
      },
      "source": [
        ""
      ],
      "execution_count": 0,
      "outputs": []
    },
    {
      "cell_type": "code",
      "metadata": {
        "id": "vOaWHo0L8n2_",
        "colab_type": "code",
        "colab": {}
      },
      "source": [
        "#SAVING --------------------------------------------------\n",
        "\n",
        "model.save(\"mimodelo.h5\")"
      ],
      "execution_count": 0,
      "outputs": []
    },
    {
      "cell_type": "code",
      "metadata": {
        "id": "xYMLDtNZiuV0",
        "colab_type": "code",
        "outputId": "d35b66d3-a739-4f98-bda6-3ee3204a911d",
        "colab": {
          "base_uri": "https://localhost:8080/",
          "height": 543
        }
      },
      "source": [
        "# GRAPHIC --------------------------------------------------\n",
        "import matplotlib.pyplot as plt\n",
        "\n",
        "#Se crea la gráfica con los progresos realizados por la red neuronal\n",
        "\n",
        "plt.xlabel(\"Epochs\")\n",
        "plt.ylabel(\"Error\")\n",
        "plt.plot(acc.history[\"loss\"], label = \"loss\")\n",
        "plt.plot(acc.history[\"val_loss\"], label = \"val_loss\")\n",
        "plt.legend()\n",
        "plt.show()\n",
        "\n",
        "plt.xlabel(\"Epochs\")\n",
        "plt.ylabel(\"Accuracy\")\n",
        "plt.plot(acc.history[\"accuracy\"], label = \"accuracy\")\n",
        "plt.plot(acc.history[\"val_accuracy\"], label = \"val_accuracy\")\n",
        "plt.legend()\n",
        "plt.show()"
      ],
      "execution_count": 28,
      "outputs": [
        {
          "output_type": "display_data",
          "data": {
            "image/png": "[encoded data removed]",
            "text/plain": [
              "<Figure size 432x288 with 1 Axes>"
            ]
          },
          "metadata": {
            "tags": [],
            "needs_background": "light"
          }
        },
        {
          "output_type": "display_data",
          "data": {
            "image/png": "[encoded data removed]",
            "text/plain": [
              "<Figure size 432x288 with 1 Axes>"
            ]
          },
          "metadata": {
            "tags": [],
            "needs_background": "light"
          }
        }
      ]
    }
  ]
}