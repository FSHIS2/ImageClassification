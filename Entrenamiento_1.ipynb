{
  "nbformat": 4,
  "nbformat_minor": 0,
  "metadata": {
    "colab": {
      "name": "Entrenamiento 1.ipynb",
      "provenance": [],
      "collapsed_sections": []
    },
    "kernelspec": {
      "name": "python3",
      "display_name": "Python 3"
    }
  },
  "cells": [
    {
      "cell_type": "code",
      "metadata": {
        "id": "GFnGRRuCHm5N",
        "colab_type": "code",
        "colab": {
          "base_uri": "https://localhost:8080/",
          "height": 34
        },
        "outputId": "438c9646-b505-4b02-d019-f6cf61a907d3"
      },
      "source": [
        "from keras.preprocessing.image import ImageDataGenerator\n",
        "from keras.models import Sequential\n",
        "from keras.layers import Dense, Dropout\n",
        "from keras.optimizers import RMSprop\n",
        "from keras.layers import Dense, Dropout, Flatten\n",
        "from keras.layers import Conv2D, MaxPooling2D\n",
        "from keras import backend as K\n",
        "from keras.callbacks import EarlyStopping, callbacks\n",
        "import keras\n",
        "from time import time"
      ],
      "execution_count": 1,
      "outputs": [
        {
          "output_type": "stream",
          "text": [
            "Using TensorFlow backend.\n"
          ],
          "name": "stderr"
        }
      ]
    },
    {
      "cell_type": "code",
      "metadata": {
        "id": "4DvgzDZwYMAb",
        "colab_type": "code",
        "colab": {
          "base_uri": "https://localhost:8080/",
          "height": 121
        },
        "outputId": "b9b52286-7530-4d99-d599-26eb6a8cd020"
      },
      "source": [
        "from google.colab import drive\n",
        "drive.mount('/content/drive')"
      ],
      "execution_count": 2,
      "outputs": [
        {
          "output_type": "stream",
          "text": [
            "Go to this URL in a browser: https://accounts.google.com/o/oauth2/auth?client_id=947318989803-6bn6qk8qdgf4n4g3pfee6491hc0brc4i.apps.googleusercontent.com&redirect_uri=urn%3aietf%3awg%3aoauth%3a2.0%3aoob&response_type=code&scope=email%20https%3a%2f%2fwww.googleapis.com%2fauth%2fdocs.test%20https%3a%2f%2fwww.googleapis.com%2fauth%2fdrive%20https%3a%2f%2fwww.googleapis.com%2fauth%2fdrive.photos.readonly%20https%3a%2f%2fwww.googleapis.com%2fauth%2fpeopleapi.readonly\n",
            "\n",
            "Enter your authorization code:\n",
            "··········\n",
            "Mounted at /content/drive\n"
          ],
          "name": "stdout"
        }
      ]
    },
    {
      "cell_type": "code",
      "metadata": {
        "id": "JtoAduGn7JHp",
        "colab_type": "code",
        "outputId": "342a5da5-57a4-4b68-ef72-8dd7da4eb411",
        "colab": {
          "base_uri": "https://localhost:8080/",
          "height": 50
        }
      },
      "source": [
        "# DATA SOURCE --------------------------------------------------\n",
        "\n",
        "batch_size = 50\n",
        "train_data_dir = \"/content/drive/My Drive/Colab Notebooks/data/natural_images/dataset/Entrenamiento\"\n",
        "validation_data_dir = \"/content/drive/My Drive/Colab Notebooks/data/natural_images/dataset/Tests\"\n",
        "\n",
        "train_datagen = ImageDataGenerator( #data augmentation\n",
        "        rescale=1./255,\n",
        "        width_shift_range=0.1,\n",
        "        height_shift_range=0.1,\n",
        "        zoom_range=0.1, \n",
        "        rotation_range=14\n",
        ")\n",
        "\n",
        "validation_datagen = ImageDataGenerator( #data augmentation\n",
        "        rescale=1./255\n",
        ")\n",
        "\n",
        "train_generator = train_datagen.flow_from_directory(\n",
        "        train_data_dir,\n",
        "        target_size=(150, 150),\n",
        "        batch_size=batch_size,\n",
        "        class_mode='categorical')\n",
        "\n",
        "validation_generator = validation_datagen.flow_from_directory(\n",
        "        validation_data_dir,\n",
        "        target_size=(150, 150),\n",
        "        batch_size=batch_size,\n",
        "        class_mode='categorical')\n",
        "\n"
      ],
      "execution_count": 3,
      "outputs": [
        {
          "output_type": "stream",
          "text": [
            "Found 125 images belonging to 5 classes.\n",
            "Found 55 images belonging to 5 classes.\n"
          ],
          "name": "stdout"
        }
      ]
    },
    {
      "cell_type": "code",
      "metadata": {
        "id": "qa1QjMeKR-4y",
        "colab_type": "code",
        "colab": {}
      },
      "source": [
        "# MODEL --------------------------------------------------\n",
        "\n",
        "from keras.layers.normalization import BatchNormalization\n",
        "\n",
        "epochs = 20\n",
        "model = Sequential()\n",
        "\n",
        "model.add(Conv2D(32, kernel_size=(3, 3),\n",
        "                 activation='relu',\n",
        "                 input_shape=(150, 150, 3)))\n",
        "model.add(MaxPooling2D(pool_size=(2, 2)))\n",
        "model.add(Conv2D(64, (3, 3), activation='relu'))\n",
        "model.add(MaxPooling2D(pool_size=(2, 2)))\n",
        "model.add(Dropout(0.25))\n",
        "model.add(Flatten())\n",
        "model.add(Dense(128, activation='relu'))\n",
        "\n",
        "model.add(Dropout(0.5))\n",
        "\n",
        "model.add(Dense(5, activation='softmax'))\n",
        "\n",
        "\n",
        "model.compile(loss=keras.losses.categorical_crossentropy,\n",
        "              optimizer=keras.optimizers.Adam(0.0001),\n",
        "              metrics=['accuracy'])"
      ],
      "execution_count": 0,
      "outputs": []
    },
    {
      "cell_type": "code",
      "metadata": {
        "id": "Ze_NJ5zOiB8A",
        "colab_type": "code",
        "outputId": "ff24994c-1744-4713-a07b-d8e54937128d",
        "colab": {
          "base_uri": "https://localhost:8080/",
          "height": 776
        }
      },
      "source": [
        "# TRAINING --------------------------------------------------\n",
        "\n",
        "acc = model.fit_generator(\n",
        "        generator = train_generator,\n",
        "        epochs=epochs, \n",
        "        validation_data=validation_generator,\n",
        "        shuffle=True\n",
        ")"
      ],
      "execution_count": 5,
      "outputs": [
        {
          "output_type": "stream",
          "text": [
            "Epoch 1/20\n",
            "1/3 [=========>....................] - ETA: 42s - loss: 1.6898 - accuracy: 0.2800"
          ],
          "name": "stdout"
        },
        {
          "output_type": "stream",
          "text": [
            "/usr/local/lib/python3.6/dist-packages/keras/utils/data_utils.py:616: UserWarning: The input 0 could not be retrieved. It could be because a worker has died.\n",
            "  UserWarning)\n"
          ],
          "name": "stderr"
        },
        {
          "output_type": "stream",
          "text": [
            "\b\b\b\b\b\b\b\b\b\b\b\b\b\b\b\b\b\b\b\b\b\b\b\b\b\b\b\b\b\b\b\b\b\b\b\b\b\b\b\b\b\b\b\b\b\b\b\b\b\b\b\b\b\b\b\b\b\b\b\b\b\b\b\b\b\b\b\b\b\b\b\b\b\b\b\b\b\b\b\b\b\r2/3 [===================>..........] - ETA: 29s - loss: 1.7865 - accuracy: 0.2133"
          ],
          "name": "stdout"
        },
        {
          "output_type": "stream",
          "text": [
            "/usr/local/lib/python3.6/dist-packages/keras/utils/data_utils.py:616: UserWarning: The input 1 could not be retrieved. It could be because a worker has died.\n",
            "  UserWarning)\n"
          ],
          "name": "stderr"
        },
        {
          "output_type": "stream",
          "text": [
            "\b\b\b\b\b\b\b\b\b\b\b\b\b\b\b\b\b\b\b\b\b\b\b\b\b\b\b\b\b\b\b\b\b\b\b\b\b\b\b\b\b\b\b\b\b\b\b\b\b\b\b\b\b\b\b\b\b\b\b\b\b\b\b\b\b\b\b\b\b\b\b\b\b\b\b\b\b\b\b\b\b\r3/3 [==============================] - 100s 33s/step - loss: 1.7492 - accuracy: 0.2240 - val_loss: 1.9175 - val_accuracy: 0.2000\n",
            "Epoch 2/20\n",
            "3/3 [==============================] - 6s 2s/step - loss: 1.7065 - accuracy: 0.2560 - val_loss: 1.5729 - val_accuracy: 0.3455\n",
            "Epoch 3/20\n",
            "3/3 [==============================] - 6s 2s/step - loss: 1.5626 - accuracy: 0.3120 - val_loss: 1.5321 - val_accuracy: 0.2909\n",
            "Epoch 4/20\n",
            "3/3 [==============================] - 6s 2s/step - loss: 1.5476 - accuracy: 0.2960 - val_loss: 1.3912 - val_accuracy: 0.4545\n",
            "Epoch 5/20\n",
            "3/3 [==============================] - 6s 2s/step - loss: 1.5291 - accuracy: 0.2640 - val_loss: 1.2179 - val_accuracy: 0.4364\n",
            "Epoch 6/20\n",
            "3/3 [==============================] - 6s 2s/step - loss: 1.4311 - accuracy: 0.4160 - val_loss: 1.6163 - val_accuracy: 0.4364\n",
            "Epoch 7/20\n",
            "3/3 [==============================] - 6s 2s/step - loss: 1.3753 - accuracy: 0.4400 - val_loss: 1.4244 - val_accuracy: 0.6727\n",
            "Epoch 8/20\n",
            "3/3 [==============================] - 6s 2s/step - loss: 1.3015 - accuracy: 0.4720 - val_loss: 0.9190 - val_accuracy: 0.6182\n",
            "Epoch 9/20\n",
            "3/3 [==============================] - 6s 2s/step - loss: 1.3286 - accuracy: 0.4480 - val_loss: 1.5504 - val_accuracy: 0.5091\n",
            "Epoch 10/20\n",
            "3/3 [==============================] - 7s 2s/step - loss: 1.2331 - accuracy: 0.5200 - val_loss: 1.3487 - val_accuracy: 0.4727\n",
            "Epoch 11/20\n",
            "3/3 [==============================] - 6s 2s/step - loss: 1.2250 - accuracy: 0.5280 - val_loss: 1.2606 - val_accuracy: 0.4727\n",
            "Epoch 12/20\n",
            "3/3 [==============================] - 6s 2s/step - loss: 1.1371 - accuracy: 0.5680 - val_loss: 0.7441 - val_accuracy: 0.6182\n",
            "Epoch 13/20\n",
            "3/3 [==============================] - 6s 2s/step - loss: 1.0735 - accuracy: 0.6080 - val_loss: 1.3523 - val_accuracy: 0.6545\n",
            "Epoch 14/20\n",
            "3/3 [==============================] - 7s 2s/step - loss: 1.0457 - accuracy: 0.6080 - val_loss: 1.5377 - val_accuracy: 0.6909\n",
            "Epoch 15/20\n",
            "3/3 [==============================] - 6s 2s/step - loss: 1.0801 - accuracy: 0.5600 - val_loss: 0.6519 - val_accuracy: 0.6000\n",
            "Epoch 16/20\n",
            "3/3 [==============================] - 6s 2s/step - loss: 0.9897 - accuracy: 0.5760 - val_loss: 0.5915 - val_accuracy: 0.6727\n",
            "Epoch 17/20\n",
            "3/3 [==============================] - 6s 2s/step - loss: 0.9854 - accuracy: 0.6080 - val_loss: 0.7613 - val_accuracy: 0.6545\n",
            "Epoch 18/20\n",
            "3/3 [==============================] - 6s 2s/step - loss: 0.9664 - accuracy: 0.6560 - val_loss: 1.3480 - val_accuracy: 0.6545\n",
            "Epoch 19/20\n",
            "3/3 [==============================] - 6s 2s/step - loss: 0.9489 - accuracy: 0.6080 - val_loss: 1.4193 - val_accuracy: 0.7091\n",
            "Epoch 20/20\n",
            "3/3 [==============================] - 6s 2s/step - loss: 0.9045 - accuracy: 0.6800 - val_loss: 1.1255 - val_accuracy: 0.6545\n"
          ],
          "name": "stdout"
        }
      ]
    },
    {
      "cell_type": "code",
      "metadata": {
        "id": "vOaWHo0L8n2_",
        "colab_type": "code",
        "colab": {}
      },
      "source": [
        "#SAVING --------------------------------------------------\n",
        "\n",
        "model.save(\"mimodelo.h5\")"
      ],
      "execution_count": 0,
      "outputs": []
    },
    {
      "cell_type": "code",
      "metadata": {
        "id": "xYMLDtNZiuV0",
        "colab_type": "code",
        "outputId": "99b478e3-51ed-4ce5-d7e4-ec97c168830a",
        "colab": {
          "base_uri": "https://localhost:8080/",
          "height": 541
        }
      },
      "source": [
        "# GRAPHIC --------------------------------------------------\n",
        "import matplotlib.pyplot as plt\n",
        "\n",
        "#Se crea la gráfica con los progresos realizados por la red neuronal\n",
        "\n",
        "plt.xlabel(\"Epochs\")\n",
        "plt.ylabel(\"Error\")\n",
        "plt.plot(acc.history[\"loss\"], label = \"loss\")\n",
        "plt.plot(acc.history[\"val_loss\"], label = \"val_loss\")\n",
        "plt.legend()\n",
        "plt.show()\n",
        "\n",
        "plt.xlabel(\"Epochs\")\n",
        "plt.ylabel(\"Accuracy\")\n",
        "plt.plot(acc.history[\"accuracy\"], label = \"accuracy\")\n",
        "plt.plot(acc.history[\"val_accuracy\"], label = \"val_accuracy\")\n",
        "plt.legend()\n",
        "plt.show()"
      ],
      "execution_count": 6,
      "outputs": [
        {
          "output_type": "display_data",
          "data": {
            "image/png": "[encoded data removed]",
            "text/plain": [
              "<Figure size 432x288 with 1 Axes>"
            ]
          },
          "metadata": {
            "tags": [],
            "needs_background": "light"
          }
        },
        {
          "output_type": "display_data",
          "data": {
            "image/png": "[encoded data removed]",
            "text/plain": [
              "<Figure size 432x288 with 1 Axes>"
            ]
          },
          "metadata": {
            "tags": [],
            "needs_background": "light"
          }
        }
      ]
    }
  ]
}